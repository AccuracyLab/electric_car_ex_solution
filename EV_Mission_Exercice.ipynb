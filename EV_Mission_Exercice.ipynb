{
 "cells": [
  {
   "cell_type": "code",
   "execution_count": null,
   "id": "13d14e4bb98b03b6",
   "metadata": {
    "collapsed": false
   },
   "outputs": [],
   "source": [
    "import pyodide_js\n",
    "await pyodide_js.loadPackage('matplotlib')\n",
    "await pyodide_js.loadPackage('scikit-learn')\n",
    "await pyodide_js.loadPackage('xgboost')"
   ]
  },
  {
   "cell_type": "code",
   "execution_count": null,
   "id": "initial_id",
   "metadata": {
    "collapsed": false
   },
   "outputs": [],
   "source": [
    "import pandas as pd\n",
    "\n",
    "from electric_cars.view import plot_column\n",
    "from electric_cars.utils import load_data, preview_table, describe_column, fit_predicting_model, make_prediction, stack_tables, join_tables, apply_calculation_to_row, aggregate_sum\n",
    "\n",
    "pd.set_option('display.max_columns', None)\n",
    "pd.set_option('display.max_rows', None)"
   ]
  },
  {
   "cell_type": "markdown",
   "id": "b4907b728bb22e56",
   "metadata": {
    "collapsed": false
   },
   "source": [
    "# Assumptions\n",
    "\n",
    "Here are some key assumptions that you may potentially need for the modeling:\n",
    "- In France, about 20% of the electric vehicle charging needs are covered through home charging outlets.\n",
    "- Vehicle traffic in France is heavily dependent on the time of day. It can be considered that it is doubled during the following time slots: 6:30-9:30, 12:00-14:00, 16:30-19:30.\n",
    "- There is no competition between the various players on the selling price of electricity.\n",
    "- The average speed for a home - work journey is 45 km/h (about 28 mph).\n",
    "- The choice of charging stations in an area does not depend on the characteristics of the available stations.\n",
    "- A French person uses their car on average 4 times a week."
   ]
  },
  {
   "cell_type": "markdown",
   "id": "187ce57c19ec7ee4",
   "metadata": {
    "collapsed": false
   },
   "source": [
    "# Available functions\n",
    "\n",
    "Here is the list of functions made available to you:\n",
    "- `load_data()`: loads the data from the csv files\n",
    "- `preview_table(table)`: prints the first 5 rows of the table\n",
    "- `describe_column(table, column_name)`: prints the description of the column\n",
    "- `plot_column(table, column_name, zone_name)`: plots column_name for zone_name\n",
    "- `fit_predicting_model(table, features, target, per_zone, model_type)`: fits a model on the table and returns it. The available model_types are \"linear_regression\", \"decision_tree\", \"xgboost\". per_zone = True will fit one independent model per zone while per_zone = False will fit the same model on all zones.\n",
    "- `make_prediction(table, features, target, per_zone, model)`: makes a prediction on the table using the model. per_zone = True if you fitted independent models per zone, else False.\n",
    "- `stack_tables(table_1, table_2, stack_type)`: stacks table_1 and table_2 either vertically or horizontally. Stack_type can be \"vertical\" or \"horizontal\".\n",
    "- `join_tables(table_1, table_2, join_key, join_type)`: joins table_1 and table_2 on the join_key. Join_type can be \"left\", \"right\", \"outer\" or \"inner\".\n",
    "- `apply_calculation_to_row(table, new_column_name, function, columns)`: applies the function to the columns and creates a new column named new_column_name\n",
    "- `aggregate_sum(table, column_name, new_column_name)`: aggregates the column_name by summing it and creates a new column named new_column_name"
   ]
  },
  {
   "cell_type": "markdown",
   "id": "7ef04829719c452f",
   "metadata": {
    "collapsed": false
   },
   "source": [
    "# 0. Loading data"
   ]
  },
  {
   "cell_type": "code",
   "execution_count": null,
   "id": "46293d1f7f3e9219",
   "metadata": {
    "collapsed": false
   },
   "outputs": [],
   "source": [
    "table_1, table_2, table_3, table_4, table_5 = load_data()"
   ]
  },
  {
   "cell_type": "markdown",
   "id": "156038df78922695",
   "metadata": {
    "collapsed": false
   },
   "source": [
    "# I. Data exploration\n"
   ]
  },
  {
   "cell_type": "code",
   "execution_count": null,
   "id": "7f5e21f67da5090b",
   "metadata": {
    "collapsed": false
   },
   "outputs": [],
   "source": [
    "preview_table(table_1)"
   ]
  },
  {
   "cell_type": "code",
   "execution_count": null,
   "id": "4606ba0899f18800",
   "metadata": {
    "collapsed": false
   },
   "outputs": [],
   "source": []
  },
  {
   "cell_type": "code",
   "execution_count": null,
   "id": "83d9cc74ab2ebd9d",
   "metadata": {
    "collapsed": false
   },
   "outputs": [],
   "source": []
  },
  {
   "cell_type": "code",
   "execution_count": null,
   "id": "8edb198a3d117f3e",
   "metadata": {
    "collapsed": false
   },
   "outputs": [],
   "source": []
  },
  {
   "cell_type": "markdown",
   "id": "7bcd1ef9",
   "metadata": {},
   "source": [
    "# I. Data analysis"
   ]
  }
 ],
 "metadata": {
  "kernelspec": {
   "display_name": "Python 3",
   "language": "python",
   "name": "python3"
  },
  "language_info": {
   "codemirror_mode": {
    "name": "ipython",
    "version": 3
   },
   "file_extension": ".py",
   "mimetype": "text/x-python",
   "name": "python",
   "nbconvert_exporter": "python",
   "pygments_lexer": "ipython3",
   "version": "3.8.0"
  }
 },
 "nbformat": 4,
 "nbformat_minor": 5
}
